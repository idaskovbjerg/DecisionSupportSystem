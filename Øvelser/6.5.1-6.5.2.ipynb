{
 "cells": [
  {
   "cell_type": "markdown",
   "metadata": {},
   "source": [
    "# 6.5.1"
   ]
  },
  {
   "cell_type": "code",
   "execution_count": 1,
   "metadata": {},
   "outputs": [],
   "source": [
    "import numpy as np\n",
    "import pandas as pd\n",
    "import sklearn.linear_model as lm\n",
    "from itertools import combinations\n",
    "import matplotlib.pyplot as plt\n",
    "from sklearn import metrics, linear_model\n",
    "import imp"
   ]
  },
  {
   "cell_type": "code",
   "execution_count": 2,
   "metadata": {},
   "outputs": [
    {
     "name": "stdout",
     "output_type": "stream",
     "text": [
      "['Unnamed: 0', 'AtBat', 'Hits', 'HmRun', 'Runs', 'RBI', 'Walks', 'Years', 'CAtBat', 'CHits', 'CHmRun', 'CRuns', 'CRBI', 'CWalks', 'League', 'Division', 'PutOuts', 'Assists', 'Errors', 'Salary', 'NewLeague']\n"
     ]
    }
   ],
   "source": [
    "metricsUtil = imp.load_source('MetricsUtil','MetricsUtil.py')\n",
    "# drop rows with nan values\n",
    "data = pd.read_csv('Dataset\\Hitters.csv', usecols=range(0,21)).dropna()\n",
    "print(list(data.columns.values))"
   ]
  },
  {
   "cell_type": "code",
   "execution_count": 3,
   "metadata": {},
   "outputs": [],
   "source": [
    "X = pd.get_dummies(data.drop('Salary', axis=1).drop('Unnamed: 0', axis=1)).drop([\"League_A\", \"Division_E\", \"NewLeague_A\"], axis=1)\n",
    "Y = data['Salary']"
   ]
  },
  {
   "cell_type": "code",
   "execution_count": 4,
   "metadata": {},
   "outputs": [],
   "source": [
    "def process_subset(feature_set):\n",
    "    d = len(feature_set)\n",
    "    n = X.shape[0]\n",
    "    # Fit model on feature_set  \n",
    "    model = lm.LinearRegression().fit(X[[i for i in feature_set]], Y)\n",
    "    Y_hat = model.predict(X[list(feature_set)])\n",
    "    \n",
    "    rss = metricsUtil.RSS(Y, Y_hat)  \n",
    "    rsquared = metrics.r2_score(Y, Y_hat)\n",
    "\n",
    "    # model = sm.OLS(Y,X[list(feature_set)])\n",
    "    # regr = model.fit()\n",
    "    A_rsquared = metricsUtil.A_rsquare(rss, Y, Y_hat, n, d)\n",
    "\n",
    "    cp = metricsUtil.Cp(rss, d, Y_hat, n)\n",
    "    bic = metricsUtil.Bic(n, rss, d, Y_hat)\n",
    "   \n",
    "    return {\"model\":model, \n",
    "            \"RSS\":rss,\n",
    "            \"features\": feature_set,\n",
    "            \"rsquared\": rsquared,\n",
    "            \"A_rsquared\" : A_rsquared,\n",
    "            \"bic\": bic,\n",
    "            \"cp\":cp }"
   ]
  },
  {
   "cell_type": "code",
   "execution_count": 5,
   "metadata": {},
   "outputs": [],
   "source": [
    "def best_subset_selection(k):\n",
    "    results = []\n",
    "    for combo in combinations(X.columns, k):\n",
    "        results.append(process_subset(combo))\n",
    "    models = pd.DataFrame(results)\n",
    "    #Choose best model based on RSS\n",
    "    best_model = models.loc[models['RSS'].argmin()]\n",
    "    return best_model\n"
   ]
  },
  {
   "cell_type": "code",
   "execution_count": 6,
   "metadata": {},
   "outputs": [],
   "source": [
    "def backward_stepwise_selection(predictors):\n",
    "    results = []\n",
    "    # All combinations of predictors of the size of predictors -1, \n",
    "    for combo in combinations(predictors, len(predictors)-1):\n",
    "        results.append(process_subset(combo))\n",
    "    models = pd.DataFrame(results)\n",
    "    #Choose best model based on RSS\n",
    "    best_model = models.loc[models['RSS'].argmin()]\n",
    "    return best_model\n"
   ]
  },
  {
   "cell_type": "code",
   "execution_count": 7,
   "metadata": {},
   "outputs": [],
   "source": [
    "def forward_stepwise_selection(predictors):\n",
    "    #Identify predictors not already picked\n",
    "    remaining_predictors = [p for p in X.columns if p not in predictors]\n",
    "    results = []\n",
    "    for p in remaining_predictors:\n",
    "        results.append(process_subset(predictors+[p]))\n",
    "    models = pd.DataFrame(results)\n",
    "    #Choose best model based on RSS\n",
    "    best_model = models.loc[models['RSS'].argmin()]\n",
    "    return best_model"
   ]
  },
  {
   "cell_type": "code",
   "execution_count": 8,
   "metadata": {},
   "outputs": [],
   "source": [
    "subsets = pd.DataFrame(columns=[\"RSS\", \"model\", \"features\", \"rsquared\", \"A_rsquared\", \"bic\", \"cp\"])"
   ]
  },
  {
   "cell_type": "code",
   "execution_count": 9,
   "metadata": {},
   "outputs": [
    {
     "name": "stdout",
     "output_type": "stream",
     "text": [
      "<bound method DataFrame.count of Empty DataFrame\n",
      "Columns: [RSS, model, features, rsquared, A_rsquared, bic, cp]\n",
      "Index: []>\n"
     ]
    }
   ],
   "source": [
    "print(subsets.count)"
   ]
  },
  {
   "cell_type": "code",
   "execution_count": 10,
   "metadata": {},
   "outputs": [
    {
     "name": "stdout",
     "output_type": "stream",
     "text": [
      "1\n"
     ]
    },
    {
     "name": "stderr",
     "output_type": "stream",
     "text": [
      "C:\\Users\\ida_s\\Anaconda3\\lib\\site-packages\\ipykernel_launcher.py:7: FutureWarning: 'argmin' is deprecated, use 'idxmin' instead. The behavior of 'argmin'\n",
      "will be corrected to return the positional minimum in the future.\n",
      "Use 'series.values.argmin' to get the position of the minimum now.\n",
      "  import sys\n",
      "C:\\Users\\ida_s\\Anaconda3\\lib\\site-packages\\ipykernel_launcher.py:7: FutureWarning: 'argmin' is deprecated, use 'idxmin' instead. The behavior of 'argmin'\n",
      "will be corrected to return the positional minimum in the future.\n",
      "Use 'series.values.argmin' to get the position of the minimum now.\n",
      "  import sys\n"
     ]
    },
    {
     "name": "stdout",
     "output_type": "stream",
     "text": [
      "2\n"
     ]
    },
    {
     "name": "stderr",
     "output_type": "stream",
     "text": [
      "C:\\Users\\ida_s\\Anaconda3\\lib\\site-packages\\ipykernel_launcher.py:7: FutureWarning: 'argmin' is deprecated, use 'idxmin' instead. The behavior of 'argmin'\n",
      "will be corrected to return the positional minimum in the future.\n",
      "Use 'series.values.argmin' to get the position of the minimum now.\n",
      "  import sys\n"
     ]
    },
    {
     "name": "stdout",
     "output_type": "stream",
     "text": [
      "3\n"
     ]
    },
    {
     "name": "stderr",
     "output_type": "stream",
     "text": [
      "C:\\Users\\ida_s\\Anaconda3\\lib\\site-packages\\ipykernel_launcher.py:7: FutureWarning: 'argmin' is deprecated, use 'idxmin' instead. The behavior of 'argmin'\n",
      "will be corrected to return the positional minimum in the future.\n",
      "Use 'series.values.argmin' to get the position of the minimum now.\n",
      "  import sys\n"
     ]
    },
    {
     "name": "stdout",
     "output_type": "stream",
     "text": [
      "4\n"
     ]
    },
    {
     "name": "stderr",
     "output_type": "stream",
     "text": [
      "C:\\Users\\ida_s\\Anaconda3\\lib\\site-packages\\ipykernel_launcher.py:7: FutureWarning: 'argmin' is deprecated, use 'idxmin' instead. The behavior of 'argmin'\n",
      "will be corrected to return the positional minimum in the future.\n",
      "Use 'series.values.argmin' to get the position of the minimum now.\n",
      "  import sys\n"
     ]
    },
    {
     "name": "stdout",
     "output_type": "stream",
     "text": [
      "5\n"
     ]
    },
    {
     "name": "stderr",
     "output_type": "stream",
     "text": [
      "C:\\Users\\ida_s\\Anaconda3\\lib\\site-packages\\ipykernel_launcher.py:7: FutureWarning: 'argmin' is deprecated, use 'idxmin' instead. The behavior of 'argmin'\n",
      "will be corrected to return the positional minimum in the future.\n",
      "Use 'series.values.argmin' to get the position of the minimum now.\n",
      "  import sys\n"
     ]
    },
    {
     "name": "stdout",
     "output_type": "stream",
     "text": [
      "6\n",
      "7\n",
      "features\n",
      "('Hits', 'Walks', 'CAtBat', 'CHits', 'CHmRun', 'PutOuts', 'Division_W')\n"
     ]
    },
    {
     "name": "stderr",
     "output_type": "stream",
     "text": [
      "C:\\Users\\ida_s\\Anaconda3\\lib\\site-packages\\ipykernel_launcher.py:7: FutureWarning: 'argmin' is deprecated, use 'idxmin' instead. The behavior of 'argmin'\n",
      "will be corrected to return the positional minimum in the future.\n",
      "Use 'series.values.argmin' to get the position of the minimum now.\n",
      "  import sys\n"
     ]
    }
   ],
   "source": [
    "predictors = []\n",
    "#Best subset selection\n",
    "for i in range(1,8):\n",
    "    subsets.loc[i] = best_subset_selection(i)\n",
    "    predictors = subsets.loc[i].features\n",
    "    print(i)\n",
    "    \n",
    "print(\"features\")\n",
    "print(subsets.loc[7].features)"
   ]
  },
  {
   "cell_type": "code",
   "execution_count": 11,
   "metadata": {},
   "outputs": [
    {
     "name": "stderr",
     "output_type": "stream",
     "text": [
      "C:\\Users\\ida_s\\Anaconda3\\lib\\site-packages\\ipykernel_launcher.py:9: FutureWarning: 'argmin' is deprecated, use 'idxmin' instead. The behavior of 'argmin'\n",
      "will be corrected to return the positional minimum in the future.\n",
      "Use 'series.values.argmin' to get the position of the minimum now.\n",
      "  if __name__ == '__main__':\n",
      "C:\\Users\\ida_s\\Anaconda3\\lib\\site-packages\\ipykernel_launcher.py:9: FutureWarning: 'argmin' is deprecated, use 'idxmin' instead. The behavior of 'argmin'\n",
      "will be corrected to return the positional minimum in the future.\n",
      "Use 'series.values.argmin' to get the position of the minimum now.\n",
      "  if __name__ == '__main__':\n",
      "C:\\Users\\ida_s\\Anaconda3\\lib\\site-packages\\ipykernel_launcher.py:9: FutureWarning: 'argmin' is deprecated, use 'idxmin' instead. The behavior of 'argmin'\n",
      "will be corrected to return the positional minimum in the future.\n",
      "Use 'series.values.argmin' to get the position of the minimum now.\n",
      "  if __name__ == '__main__':\n",
      "C:\\Users\\ida_s\\Anaconda3\\lib\\site-packages\\ipykernel_launcher.py:9: FutureWarning: 'argmin' is deprecated, use 'idxmin' instead. The behavior of 'argmin'\n",
      "will be corrected to return the positional minimum in the future.\n",
      "Use 'series.values.argmin' to get the position of the minimum now.\n",
      "  if __name__ == '__main__':\n",
      "C:\\Users\\ida_s\\Anaconda3\\lib\\site-packages\\ipykernel_launcher.py:9: FutureWarning: 'argmin' is deprecated, use 'idxmin' instead. The behavior of 'argmin'\n",
      "will be corrected to return the positional minimum in the future.\n",
      "Use 'series.values.argmin' to get the position of the minimum now.\n",
      "  if __name__ == '__main__':\n",
      "C:\\Users\\ida_s\\Anaconda3\\lib\\site-packages\\ipykernel_launcher.py:9: FutureWarning: 'argmin' is deprecated, use 'idxmin' instead. The behavior of 'argmin'\n",
      "will be corrected to return the positional minimum in the future.\n",
      "Use 'series.values.argmin' to get the position of the minimum now.\n",
      "  if __name__ == '__main__':\n",
      "C:\\Users\\ida_s\\Anaconda3\\lib\\site-packages\\ipykernel_launcher.py:9: FutureWarning: 'argmin' is deprecated, use 'idxmin' instead. The behavior of 'argmin'\n",
      "will be corrected to return the positional minimum in the future.\n",
      "Use 'series.values.argmin' to get the position of the minimum now.\n",
      "  if __name__ == '__main__':\n",
      "C:\\Users\\ida_s\\Anaconda3\\lib\\site-packages\\ipykernel_launcher.py:9: FutureWarning: 'argmin' is deprecated, use 'idxmin' instead. The behavior of 'argmin'\n",
      "will be corrected to return the positional minimum in the future.\n",
      "Use 'series.values.argmin' to get the position of the minimum now.\n",
      "  if __name__ == '__main__':\n",
      "C:\\Users\\ida_s\\Anaconda3\\lib\\site-packages\\ipykernel_launcher.py:9: FutureWarning: 'argmin' is deprecated, use 'idxmin' instead. The behavior of 'argmin'\n",
      "will be corrected to return the positional minimum in the future.\n",
      "Use 'series.values.argmin' to get the position of the minimum now.\n",
      "  if __name__ == '__main__':\n",
      "C:\\Users\\ida_s\\Anaconda3\\lib\\site-packages\\ipykernel_launcher.py:9: FutureWarning: 'argmin' is deprecated, use 'idxmin' instead. The behavior of 'argmin'\n",
      "will be corrected to return the positional minimum in the future.\n",
      "Use 'series.values.argmin' to get the position of the minimum now.\n",
      "  if __name__ == '__main__':\n",
      "C:\\Users\\ida_s\\Anaconda3\\lib\\site-packages\\ipykernel_launcher.py:9: FutureWarning: 'argmin' is deprecated, use 'idxmin' instead. The behavior of 'argmin'\n",
      "will be corrected to return the positional minimum in the future.\n",
      "Use 'series.values.argmin' to get the position of the minimum now.\n",
      "  if __name__ == '__main__':\n",
      "C:\\Users\\ida_s\\Anaconda3\\lib\\site-packages\\ipykernel_launcher.py:9: FutureWarning: 'argmin' is deprecated, use 'idxmin' instead. The behavior of 'argmin'\n",
      "will be corrected to return the positional minimum in the future.\n",
      "Use 'series.values.argmin' to get the position of the minimum now.\n",
      "  if __name__ == '__main__':\n",
      "C:\\Users\\ida_s\\Anaconda3\\lib\\site-packages\\ipykernel_launcher.py:9: FutureWarning: 'argmin' is deprecated, use 'idxmin' instead. The behavior of 'argmin'\n",
      "will be corrected to return the positional minimum in the future.\n",
      "Use 'series.values.argmin' to get the position of the minimum now.\n",
      "  if __name__ == '__main__':\n"
     ]
    },
    {
     "name": "stdout",
     "output_type": "stream",
     "text": [
      "features\n",
      "['CRBI', 'Hits', 'PutOuts', 'Division_W', 'AtBat', 'Walks', 'CWalks']\n"
     ]
    },
    {
     "name": "stderr",
     "output_type": "stream",
     "text": [
      "C:\\Users\\ida_s\\Anaconda3\\lib\\site-packages\\ipykernel_launcher.py:9: FutureWarning: 'argmin' is deprecated, use 'idxmin' instead. The behavior of 'argmin'\n",
      "will be corrected to return the positional minimum in the future.\n",
      "Use 'series.values.argmin' to get the position of the minimum now.\n",
      "  if __name__ == '__main__':\n",
      "C:\\Users\\ida_s\\Anaconda3\\lib\\site-packages\\ipykernel_launcher.py:9: FutureWarning: 'argmin' is deprecated, use 'idxmin' instead. The behavior of 'argmin'\n",
      "will be corrected to return the positional minimum in the future.\n",
      "Use 'series.values.argmin' to get the position of the minimum now.\n",
      "  if __name__ == '__main__':\n",
      "C:\\Users\\ida_s\\Anaconda3\\lib\\site-packages\\ipykernel_launcher.py:9: FutureWarning: 'argmin' is deprecated, use 'idxmin' instead. The behavior of 'argmin'\n",
      "will be corrected to return the positional minimum in the future.\n",
      "Use 'series.values.argmin' to get the position of the minimum now.\n",
      "  if __name__ == '__main__':\n",
      "C:\\Users\\ida_s\\Anaconda3\\lib\\site-packages\\ipykernel_launcher.py:9: FutureWarning: 'argmin' is deprecated, use 'idxmin' instead. The behavior of 'argmin'\n",
      "will be corrected to return the positional minimum in the future.\n",
      "Use 'series.values.argmin' to get the position of the minimum now.\n",
      "  if __name__ == '__main__':\n",
      "C:\\Users\\ida_s\\Anaconda3\\lib\\site-packages\\ipykernel_launcher.py:9: FutureWarning: 'argmin' is deprecated, use 'idxmin' instead. The behavior of 'argmin'\n",
      "will be corrected to return the positional minimum in the future.\n",
      "Use 'series.values.argmin' to get the position of the minimum now.\n",
      "  if __name__ == '__main__':\n",
      "C:\\Users\\ida_s\\Anaconda3\\lib\\site-packages\\ipykernel_launcher.py:9: FutureWarning: 'argmin' is deprecated, use 'idxmin' instead. The behavior of 'argmin'\n",
      "will be corrected to return the positional minimum in the future.\n",
      "Use 'series.values.argmin' to get the position of the minimum now.\n",
      "  if __name__ == '__main__':\n"
     ]
    }
   ],
   "source": [
    "#Forward stepwise selection\n",
    "predictors = []\n",
    "for i in range(1, len(X.columns)+1):\n",
    "    subsets.loc[i] = forward_stepwise_selection(predictors)\n",
    "    predictors = subsets.loc[i].features\n",
    "\n",
    "print(\"features\")\n",
    "print(subsets.loc[7].features)"
   ]
  },
  {
   "cell_type": "code",
   "execution_count": 12,
   "metadata": {},
   "outputs": [
    {
     "name": "stderr",
     "output_type": "stream",
     "text": [
      "C:\\Users\\ida_s\\Anaconda3\\lib\\site-packages\\ipykernel_launcher.py:8: FutureWarning: 'argmin' is deprecated, use 'idxmin' instead. The behavior of 'argmin'\n",
      "will be corrected to return the positional minimum in the future.\n",
      "Use 'series.values.argmin' to get the position of the minimum now.\n",
      "  \n",
      "C:\\Users\\ida_s\\Anaconda3\\lib\\site-packages\\ipykernel_launcher.py:8: FutureWarning: 'argmin' is deprecated, use 'idxmin' instead. The behavior of 'argmin'\n",
      "will be corrected to return the positional minimum in the future.\n",
      "Use 'series.values.argmin' to get the position of the minimum now.\n",
      "  \n",
      "C:\\Users\\ida_s\\Anaconda3\\lib\\site-packages\\ipykernel_launcher.py:8: FutureWarning: 'argmin' is deprecated, use 'idxmin' instead. The behavior of 'argmin'\n",
      "will be corrected to return the positional minimum in the future.\n",
      "Use 'series.values.argmin' to get the position of the minimum now.\n",
      "  \n",
      "C:\\Users\\ida_s\\Anaconda3\\lib\\site-packages\\ipykernel_launcher.py:8: FutureWarning: 'argmin' is deprecated, use 'idxmin' instead. The behavior of 'argmin'\n",
      "will be corrected to return the positional minimum in the future.\n",
      "Use 'series.values.argmin' to get the position of the minimum now.\n",
      "  \n",
      "C:\\Users\\ida_s\\Anaconda3\\lib\\site-packages\\ipykernel_launcher.py:8: FutureWarning: 'argmin' is deprecated, use 'idxmin' instead. The behavior of 'argmin'\n",
      "will be corrected to return the positional minimum in the future.\n",
      "Use 'series.values.argmin' to get the position of the minimum now.\n",
      "  \n",
      "C:\\Users\\ida_s\\Anaconda3\\lib\\site-packages\\ipykernel_launcher.py:8: FutureWarning: 'argmin' is deprecated, use 'idxmin' instead. The behavior of 'argmin'\n",
      "will be corrected to return the positional minimum in the future.\n",
      "Use 'series.values.argmin' to get the position of the minimum now.\n",
      "  \n",
      "C:\\Users\\ida_s\\Anaconda3\\lib\\site-packages\\ipykernel_launcher.py:8: FutureWarning: 'argmin' is deprecated, use 'idxmin' instead. The behavior of 'argmin'\n",
      "will be corrected to return the positional minimum in the future.\n",
      "Use 'series.values.argmin' to get the position of the minimum now.\n",
      "  \n",
      "C:\\Users\\ida_s\\Anaconda3\\lib\\site-packages\\ipykernel_launcher.py:8: FutureWarning: 'argmin' is deprecated, use 'idxmin' instead. The behavior of 'argmin'\n",
      "will be corrected to return the positional minimum in the future.\n",
      "Use 'series.values.argmin' to get the position of the minimum now.\n",
      "  \n",
      "C:\\Users\\ida_s\\Anaconda3\\lib\\site-packages\\ipykernel_launcher.py:8: FutureWarning: 'argmin' is deprecated, use 'idxmin' instead. The behavior of 'argmin'\n",
      "will be corrected to return the positional minimum in the future.\n",
      "Use 'series.values.argmin' to get the position of the minimum now.\n",
      "  \n",
      "C:\\Users\\ida_s\\Anaconda3\\lib\\site-packages\\ipykernel_launcher.py:8: FutureWarning: 'argmin' is deprecated, use 'idxmin' instead. The behavior of 'argmin'\n",
      "will be corrected to return the positional minimum in the future.\n",
      "Use 'series.values.argmin' to get the position of the minimum now.\n",
      "  \n",
      "C:\\Users\\ida_s\\Anaconda3\\lib\\site-packages\\ipykernel_launcher.py:8: FutureWarning: 'argmin' is deprecated, use 'idxmin' instead. The behavior of 'argmin'\n",
      "will be corrected to return the positional minimum in the future.\n",
      "Use 'series.values.argmin' to get the position of the minimum now.\n",
      "  \n",
      "C:\\Users\\ida_s\\Anaconda3\\lib\\site-packages\\ipykernel_launcher.py:8: FutureWarning: 'argmin' is deprecated, use 'idxmin' instead. The behavior of 'argmin'\n",
      "will be corrected to return the positional minimum in the future.\n",
      "Use 'series.values.argmin' to get the position of the minimum now.\n",
      "  \n"
     ]
    },
    {
     "name": "stdout",
     "output_type": "stream",
     "text": [
      "features\n",
      "('AtBat', 'Hits', 'Walks', 'CRuns', 'CWalks', 'PutOuts', 'Division_W')\n"
     ]
    },
    {
     "name": "stderr",
     "output_type": "stream",
     "text": [
      "C:\\Users\\ida_s\\Anaconda3\\lib\\site-packages\\ipykernel_launcher.py:8: FutureWarning: 'argmin' is deprecated, use 'idxmin' instead. The behavior of 'argmin'\n",
      "will be corrected to return the positional minimum in the future.\n",
      "Use 'series.values.argmin' to get the position of the minimum now.\n",
      "  \n",
      "C:\\Users\\ida_s\\Anaconda3\\lib\\site-packages\\ipykernel_launcher.py:8: FutureWarning: 'argmin' is deprecated, use 'idxmin' instead. The behavior of 'argmin'\n",
      "will be corrected to return the positional minimum in the future.\n",
      "Use 'series.values.argmin' to get the position of the minimum now.\n",
      "  \n",
      "C:\\Users\\ida_s\\Anaconda3\\lib\\site-packages\\ipykernel_launcher.py:8: FutureWarning: 'argmin' is deprecated, use 'idxmin' instead. The behavior of 'argmin'\n",
      "will be corrected to return the positional minimum in the future.\n",
      "Use 'series.values.argmin' to get the position of the minimum now.\n",
      "  \n",
      "C:\\Users\\ida_s\\Anaconda3\\lib\\site-packages\\ipykernel_launcher.py:8: FutureWarning: 'argmin' is deprecated, use 'idxmin' instead. The behavior of 'argmin'\n",
      "will be corrected to return the positional minimum in the future.\n",
      "Use 'series.values.argmin' to get the position of the minimum now.\n",
      "  \n",
      "C:\\Users\\ida_s\\Anaconda3\\lib\\site-packages\\ipykernel_launcher.py:8: FutureWarning: 'argmin' is deprecated, use 'idxmin' instead. The behavior of 'argmin'\n",
      "will be corrected to return the positional minimum in the future.\n",
      "Use 'series.values.argmin' to get the position of the minimum now.\n",
      "  \n",
      "C:\\Users\\ida_s\\Anaconda3\\lib\\site-packages\\ipykernel_launcher.py:8: FutureWarning: 'argmin' is deprecated, use 'idxmin' instead. The behavior of 'argmin'\n",
      "will be corrected to return the positional minimum in the future.\n",
      "Use 'series.values.argmin' to get the position of the minimum now.\n",
      "  \n"
     ]
    }
   ],
   "source": [
    "# #Backward stepwise selection\n",
    "predictors = X.columns\n",
    "while(len(predictors) > 1):\n",
    "    subsets.loc[len(predictors)-1] = backward_stepwise_selection(predictors)\n",
    "    predictors = subsets.loc[len(predictors)-1].features\n",
    "\n",
    "print(\"features\")\n",
    "print(subsets.loc[7].features)"
   ]
  },
  {
   "cell_type": "code",
   "execution_count": 13,
   "metadata": {},
   "outputs": [
    {
     "name": "stdout",
     "output_type": "stream",
     "text": [
      "features\n",
      "1                                              (CRuns,)\n",
      "2                                         (Hits, CRuns)\n",
      "3                                (Hits, CRuns, PutOuts)\n",
      "4                         (AtBat, Hits, CRuns, PutOuts)\n",
      "5                  (AtBat, Hits, Walks, CRuns, PutOuts)\n",
      "6      (AtBat, Hits, Walks, CRuns, PutOuts, Division_W)\n",
      "7     (AtBat, Hits, Walks, CRuns, CWalks, PutOuts, D...\n",
      "8     (AtBat, Hits, Walks, CRuns, CRBI, CWalks, PutO...\n",
      "9     (AtBat, Hits, Walks, CAtBat, CRuns, CRBI, CWal...\n",
      "10    (AtBat, Hits, Walks, CAtBat, CRuns, CRBI, CWal...\n",
      "11    (AtBat, Hits, Walks, CAtBat, CRuns, CRBI, CWal...\n",
      "12    (AtBat, Hits, Runs, Walks, CAtBat, CRuns, CRBI...\n",
      "13    (AtBat, Hits, Runs, Walks, CAtBat, CRuns, CRBI...\n",
      "14    (AtBat, Hits, HmRun, Runs, Walks, CAtBat, CRun...\n",
      "15    (AtBat, Hits, HmRun, Runs, Walks, CAtBat, CHit...\n",
      "16    (AtBat, Hits, HmRun, Runs, RBI, Walks, CAtBat,...\n",
      "17    (AtBat, Hits, HmRun, Runs, RBI, Walks, CAtBat,...\n",
      "18    (AtBat, Hits, HmRun, Runs, RBI, Walks, Years, ...\n",
      "19    [CRBI, Hits, PutOuts, Division_W, AtBat, Walks...\n",
      "Name: features, dtype: object\n",
      "RSS\n",
      "1     3.643795e+07\n",
      "2     3.120346e+07\n",
      "3     2.940730e+07\n",
      "4     2.845081e+07\n",
      "5     2.750952e+07\n",
      "6     2.667409e+07\n",
      "7     2.593349e+07\n",
      "8     2.515923e+07\n",
      "9     2.481405e+07\n",
      "10    2.450040e+07\n",
      "11    2.438735e+07\n",
      "12    2.433323e+07\n",
      "13    2.428915e+07\n",
      "14    2.424866e+07\n",
      "15    2.423518e+07\n",
      "16    2.421938e+07\n",
      "17    2.420945e+07\n",
      "18    2.420184e+07\n",
      "19    2.420070e+07\n",
      "Name: RSS, dtype: float64\n",
      "Rsquared\n",
      "1     0.316606\n",
      "2     0.414779\n",
      "3     0.448466\n",
      "4     0.466405\n",
      "5     0.484059\n",
      "6     0.499727\n",
      "7     0.513617\n",
      "8     0.528139\n",
      "9     0.534612\n",
      "10    0.540495\n",
      "11    0.542615\n",
      "12    0.543630\n",
      "13    0.544457\n",
      "14    0.545216\n",
      "15    0.545469\n",
      "16    0.545766\n",
      "17    0.545952\n",
      "18    0.546095\n",
      "19    0.546116\n",
      "Name: rsquared, dtype: float64\n",
      "cp\n",
      "1     139035.454800\n",
      "2     119923.267393\n",
      "3     113889.025900\n",
      "4     111054.210490\n",
      "5     108330.331638\n",
      "6     106044.997405\n",
      "7     104149.343683\n",
      "8     102176.358854\n",
      "9     101767.939683\n",
      "10    101490.260513\n",
      "11    101929.630886\n",
      "12    102579.208107\n",
      "13    103266.274923\n",
      "14    103968.112166\n",
      "15    104763.256769\n",
      "16    105551.443645\n",
      "17    106359.975453\n",
      "18    107176.699689\n",
      "19    108014.915426\n",
      "Name: cp, dtype: float64\n",
      "bic\n",
      "1     139907.263140\n",
      "2     122207.542713\n",
      "3     117593.721160\n",
      "4     116191.391529\n",
      "5     114994.865355\n",
      "6     114301.307491\n",
      "7     114049.439158\n",
      "8     113810.637227\n",
      "9     115016.941840\n",
      "10    116373.354905\n",
      "11    118365.260121\n",
      "12    120542.520501\n",
      "13    122756.127062\n",
      "14    124986.456690\n",
      "15    127293.356357\n",
      "16    129596.605343\n",
      "17    131916.678385\n",
      "18    134243.811705\n",
      "19    136586.872341\n",
      "Name: bic, dtype: float64\n",
      "A_rsquared\n",
      "1     0.313988\n",
      "2     0.410277\n",
      "3     0.442078\n",
      "4     0.458132\n",
      "5     0.474021\n",
      "6     0.488002\n",
      "7     0.500266\n",
      "8     0.513277\n",
      "9     0.518057\n",
      "10    0.522261\n",
      "11    0.522571\n",
      "12    0.521724\n",
      "13    0.520674\n",
      "14    0.519543\n",
      "15    0.517866\n",
      "16    0.516222\n",
      "17    0.514446\n",
      "18    0.512610\n",
      "19    0.510627\n",
      "Name: A_rsquared, dtype: float64\n"
     ]
    }
   ],
   "source": [
    "rsquared = subsets.rsquared\n",
    "RSS = subsets.RSS\n",
    "bic = subsets.bic\n",
    "cp = subsets.cp\n",
    "features = subsets.features\n",
    "A_rsquared = subsets.A_rsquared\n",
    "print(\"features\")\n",
    "print(features)\n",
    "print(\"RSS\")\n",
    "print(RSS)\n",
    "print(\"Rsquared\")\n",
    "print(rsquared)\n",
    "print(\"cp\")\n",
    "print(cp)\n",
    "print(\"bic\")\n",
    "print(bic)\n",
    "\n",
    "print(\"A_rsquared\")\n",
    "print(A_rsquared)\n"
   ]
  },
  {
   "cell_type": "code",
   "execution_count": 14,
   "metadata": {},
   "outputs": [
    {
     "data": {
      "image/png": "[encoded data removed]",
      "text/plain": [
       "<Figure size 1440x1080 with 4 Axes>"
      ]
     },
     "metadata": {
      "needs_background": "light"
     },
     "output_type": "display_data"
    }
   ],
   "source": [
    "plt.figure(figsize = (20,15))\n",
    "plt.rcParams.update({'font.size': 18, 'lines.markersize': 10})\n",
    "\n",
    "plt.subplot(2, 2, 1)\n",
    "plt.plot(RSS)\n",
    "plt.xlabel('# Predictors')\n",
    "plt.ylabel('RSS')\n",
    "\n",
    "plt.subplot(2, 2, 2)\n",
    "plt.plot(A_rsquared)\n",
    "plt.xlabel('# Predictors')\n",
    "plt.ylabel('Adj. R^2')\n",
    "\n",
    "plt.subplot(2, 2, 3)\n",
    "plt.plot(cp)\n",
    "plt.xlabel('# Predictors')\n",
    "plt.ylabel('CP')\n",
    "\n",
    "plt.subplot(2, 2, 4)\n",
    "plt.plot(bic)\n",
    "plt.xlabel('# Predictors')\n",
    "plt.ylabel('BIC')\n",
    "\n",
    "plt.show()"
   ]
  },
  {
   "cell_type": "code",
   "execution_count": null,
   "metadata": {},
   "outputs": [],
   "source": []
  }
 ],
 "metadata": {
  "kernelspec": {
   "display_name": "Python 3",
   "language": "python",
   "name": "python3"
  },
  "language_info": {
   "codemirror_mode": {
    "name": "ipython",
    "version": 3
   },
   "file_extension": ".py",
   "mimetype": "text/x-python",
   "name": "python",
   "nbconvert_exporter": "python",
   "pygments_lexer": "ipython3",
   "version": "3.7.1"
  }
 },
 "nbformat": 4,
 "nbformat_minor": 2
}
