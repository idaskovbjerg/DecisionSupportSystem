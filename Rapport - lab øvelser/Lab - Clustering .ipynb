{
 "cells": [
  {
   "cell_type": "markdown",
   "metadata": {},
   "source": [
    "# Lab 10.5.1 K-mean clustering "
   ]
  },
  {
   "cell_type": "code",
   "execution_count": 2,
   "metadata": {},
   "outputs": [],
   "source": [
    "from sklearn.cluster import KMeans\n",
    "import numpy as np\n",
    "import pandas as pd\n",
    "import matplotlib.pyplot as plt\n",
    "# inpiration found at: https://nbviewer.jupyter.org/github/JWarmenhoven/ISL-python/blob/master/Notebooks/Chapter%2010.ipynb\n",
    "# and: https://github.com/sejlermonster/Statistical-Learning/blob/master/Lab1052.py"
   ]
  },
  {
   "cell_type": "code",
   "execution_count": 6,
   "metadata": {},
   "outputs": [],
   "source": [
    "# Generate data\n",
    "np.random.seed(3)\n",
    "X = np.random.standard_normal((50,2))\n",
    "X[:25,0] = X[:25,0]+3\n",
    "X[:25,1] = X[:25,1]-4"
   ]
  },
  {
   "cell_type": "markdown",
   "metadata": {},
   "source": [
    "K = 2"
   ]
  },
  {
   "cell_type": "code",
   "execution_count": 7,
   "metadata": {},
   "outputs": [
    {
     "data": {
      "text/plain": [
       "KMeans(algorithm='auto', copy_x=True, init='k-means++', max_iter=300,\n",
       "    n_clusters=2, n_init=20, n_jobs=None, precompute_distances='auto',\n",
       "    random_state=None, tol=0.0001, verbose=0)"
      ]
     },
     "execution_count": 7,
     "metadata": {},
     "output_type": "execute_result"
    }
   ],
   "source": [
    "km1 = KMeans(n_clusters=2, n_init=20)\n",
    "km1.fit(X)"
   ]
  },
  {
   "cell_type": "code",
   "execution_count": 8,
   "metadata": {},
   "outputs": [
    {
     "data": {
      "text/plain": [
       "array([1, 1, 1, 1, 1, 1, 1, 1, 1, 1, 1, 1, 1, 1, 1, 1, 1, 1, 1, 1, 1, 1,\n",
       "       1, 1, 1, 0, 0, 0, 0, 0, 0, 0, 0, 0, 0, 0, 0, 0, 0, 0, 0, 0, 0, 0,\n",
       "       0, 0, 0, 0, 0, 0])"
      ]
     },
     "execution_count": 8,
     "metadata": {},
     "output_type": "execute_result"
    }
   ],
   "source": [
    "km1.labels_"
   ]
  },
  {
   "cell_type": "code",
   "execution_count": 9,
   "metadata": {},
   "outputs": [
    {
     "data": {
      "text/plain": [
       "108.34817900545058"
      ]
     },
     "execution_count": 9,
     "metadata": {},
     "output_type": "execute_result"
    }
   ],
   "source": [
    "# Sum of distances of samples to their closest cluster center.\n",
    "km1.inertia_"
   ]
  },
  {
   "cell_type": "markdown",
   "metadata": {},
   "source": [
    "K = 3: We know that there are K =2, but with real data it is not known. Therefor we try with k=3. "
   ]
  },
  {
   "cell_type": "code",
   "execution_count": 10,
   "metadata": {},
   "outputs": [
    {
     "data": {
      "text/plain": [
       "KMeans(algorithm='auto', copy_x=True, init='k-means++', max_iter=300,\n",
       "    n_clusters=3, n_init=20, n_jobs=None, precompute_distances='auto',\n",
       "    random_state=None, tol=0.0001, verbose=0)"
      ]
     },
     "execution_count": 10,
     "metadata": {},
     "output_type": "execute_result"
    }
   ],
   "source": [
    "np.random.seed(4)\n",
    "km2 = KMeans(n_clusters=3, n_init=20)\n",
    "km2.fit(X)"
   ]
  },
  {
   "cell_type": "code",
   "execution_count": 11,
   "metadata": {},
   "outputs": [
    {
     "data": {
      "text/plain": [
       "1    25\n",
       "0    13\n",
       "2    12\n",
       "dtype: int64"
      ]
     },
     "execution_count": 11,
     "metadata": {},
     "output_type": "execute_result"
    }
   ],
   "source": [
    "pd.Series(km2.labels_).value_counts()\n",
    "# the size of the clusters are; 21, 20, 9"
   ]
  },
  {
   "cell_type": "code",
   "execution_count": 12,
   "metadata": {},
   "outputs": [
    {
     "data": {
      "text/plain": [
       "array([[-0.30264894, -0.72085395],\n",
       "       [ 2.75473619, -4.34258983],\n",
       "       [ 0.15055483,  1.2776261 ]])"
      ]
     },
     "execution_count": 12,
     "metadata": {},
     "output_type": "execute_result"
    }
   ],
   "source": [
    "km2.cluster_centers_"
   ]
  },
  {
   "cell_type": "code",
   "execution_count": 13,
   "metadata": {},
   "outputs": [
    {
     "data": {
      "text/plain": [
       "array([1, 1, 1, 1, 1, 1, 1, 1, 1, 1, 1, 1, 1, 1, 1, 1, 1, 1, 1, 1, 1, 1,\n",
       "       1, 1, 1, 2, 2, 0, 0, 0, 2, 2, 0, 0, 2, 2, 2, 2, 2, 2, 0, 0, 2, 0,\n",
       "       0, 0, 0, 0, 0, 2])"
      ]
     },
     "execution_count": 13,
     "metadata": {},
     "output_type": "execute_result"
    }
   ],
   "source": [
    "km2.labels_"
   ]
  },
  {
   "cell_type": "code",
   "execution_count": 14,
   "metadata": {},
   "outputs": [
    {
     "data": {
      "text/plain": [
       "82.14444621369401"
      ]
     },
     "execution_count": 14,
     "metadata": {},
     "output_type": "execute_result"
    }
   ],
   "source": [
    "# Sum of distances of samples to their closest cluster center.\n",
    "km2.inertia_"
   ]
  },
  {
   "cell_type": "code",
   "execution_count": 20,
   "metadata": {},
   "outputs": [
    {
     "data": {
      "image/png": "[encoded data removed]",
      "text/plain": [
       "<Figure size 1008x360 with 2 Axes>"
      ]
     },
     "metadata": {
      "needs_background": "light"
     },
     "output_type": "display_data"
    }
   ],
   "source": [
    "\n",
    "fig, (ax1, ax2) = plt.subplots(1,2, figsize=(14,5))\n",
    "\n",
    "ax1.scatter(X[:,0], X[:,1], s=40, c=km1.labels_, cmap=plt.cm.prism) \n",
    "ax1.set_title('K-Means Clustering Results with K=2')\n",
    "ax1.scatter(km1.cluster_centers_[:,0], km1.cluster_centers_[:,1], marker='+', s=100, c='k', linewidth=2)\n",
    "\n",
    "ax2.scatter(X[:,0], X[:,1], s=40, c=km2.labels_, cmap=plt.cm.prism) \n",
    "ax2.set_title('K-Means Clustering Results with K=3')\n",
    "ax2.scatter(km2.cluster_centers_[:,0], km2.cluster_centers_[:,1], marker='+', s=100, c='k', linewidth=2);\n",
    "\n"
   ]
  },
  {
   "cell_type": "markdown",
   "metadata": {},
   "source": [
    "# Lab 10.5.2 Hierarchical Clustering"
   ]
  },
  {
   "cell_type": "code",
   "execution_count": 28,
   "metadata": {},
   "outputs": [],
   "source": [
    "from scipy.cluster.hierarchy import dendrogram, linkage, cut_tree\n",
    "from scipy.spatial import distance\n",
    "from sklearn.preprocessing import scale"
   ]
  },
  {
   "cell_type": "code",
   "execution_count": 29,
   "metadata": {},
   "outputs": [],
   "source": [
    "np.random.seed(3)\n",
    "X = np.random.standard_normal((50,2))\n",
    "X[:25,0] = X[:25,0]+3\n",
    "X[:25,1] = X[:25,1]-4"
   ]
  },
  {
   "cell_type": "code",
   "execution_count": 30,
   "metadata": {},
   "outputs": [],
   "source": [
    "#Using scaling before clustering \n",
    "scaled_x = scale(X)\n",
    "z_complete = (linkage(scaled_x, method='complete', metric='euclidean'))\n",
    "z_complete = linkage(X, method='complete', metric='euclidean')\n",
    "z_average = linkage(X, method='average', metric='euclidean')\n",
    "z_single = linkage(X, method='single', metric='euclidean')"
   ]
  },
  {
   "cell_type": "code",
   "execution_count": 32,
   "metadata": {},
   "outputs": [
    {
     "name": "stdout",
     "output_type": "stream",
     "text": [
      "[[0 0 0 0 0 0 0 0 0 0 0 0 0 0 0 0 0 0 0 0 0 0 0 0 0 1 1 1 1 1 1 1 1 1 1 1\n",
      "  1 1 1 1 1 1 1 1 1 1 1 1 1 1]]\n",
      "[[0 0 0 0 0 0 0 0 0 0 0 0 0 0 0 0 0 0 0 0 0 0 0 0 0 1 1 1 1 1 1 1 1 1 1 1\n",
      "  1 1 1 1 1 1 1 1 1 1 1 1 1 1]]\n",
      "[[0 0 0 0 0 0 0 0 0 0 0 0 0 0 0 0 0 0 0 0 0 0 0 0 0 0 0 0 0 0 0 0 0 0 0 0\n",
      "  0 0 0 0 0 0 0 0 1 0 0 0 0 0]]\n",
      "[[0 0 0 0 0 0 1 0 0 0 0 0 0 0 0 1 0 0 0 0 0 0 0 0 0 2 2 2 2 2 2 2 2 2 2 2\n",
      "  2 2 2 2 2 2 2 2 3 2 2 2 2 2]]\n"
     ]
    }
   ],
   "source": [
    "print(cut_tree(z_complete, n_clusters=2).T)\n",
    "print(cut_tree(z_average, n_clusters=2).T)\n",
    "print(cut_tree(z_single, n_clusters=2).T)\n",
    "print(cut_tree(z_single, n_clusters=4).T)"
   ]
  },
  {
   "cell_type": "markdown",
   "metadata": {},
   "source": [
    "The response from the abov show how complete and average yields the same results. Single with 2 clusters has alle but one in the same cluster, single with 4 clusters still only has two observation in one cluster and one observation in another. "
   ]
  },
  {
   "cell_type": "code",
   "execution_count": 33,
   "metadata": {},
   "outputs": [
    {
     "data": {
      "text/plain": [
       "{'icoord': [[15.0, 15.0, 25.0, 25.0],\n",
       "  [55.0, 55.0, 65.0, 65.0],\n",
       "  [95.0, 95.0, 105.0, 105.0],\n",
       "  [85.0, 85.0, 100.0, 100.0],\n",
       "  [125.0, 125.0, 135.0, 135.0],\n",
       "  [115.0, 115.0, 130.0, 130.0],\n",
       "  [155.0, 155.0, 165.0, 165.0],\n",
       "  [145.0, 145.0, 160.0, 160.0],\n",
       "  [205.0, 205.0, 215.0, 215.0],\n",
       "  [195.0, 195.0, 210.0, 210.0],\n",
       "  [185.0, 185.0, 202.5, 202.5],\n",
       "  [175.0, 175.0, 193.75, 193.75],\n",
       "  [152.5, 152.5, 184.375, 184.375],\n",
       "  [122.5, 122.5, 168.4375, 168.4375],\n",
       "  [225.0, 225.0, 235.0, 235.0],\n",
       "  [245.0, 245.0, 255.0, 255.0],\n",
       "  [230.0, 230.0, 250.0, 250.0],\n",
       "  [145.46875, 145.46875, 240.0, 240.0],\n",
       "  [92.5, 92.5, 192.734375, 192.734375],\n",
       "  [75.0, 75.0, 142.6171875, 142.6171875],\n",
       "  [60.0, 60.0, 108.80859375, 108.80859375],\n",
       "  [45.0, 45.0, 84.404296875, 84.404296875],\n",
       "  [35.0, 35.0, 64.7021484375, 64.7021484375],\n",
       "  [295.0, 295.0, 305.0, 305.0],\n",
       "  [285.0, 285.0, 300.0, 300.0],\n",
       "  [315.0, 315.0, 325.0, 325.0],\n",
       "  [292.5, 292.5, 320.0, 320.0],\n",
       "  [275.0, 275.0, 306.25, 306.25],\n",
       "  [355.0, 355.0, 365.0, 365.0],\n",
       "  [345.0, 345.0, 360.0, 360.0],\n",
       "  [335.0, 335.0, 352.5, 352.5],\n",
       "  [290.625, 290.625, 343.75, 343.75],\n",
       "  [395.0, 395.0, 405.0, 405.0],\n",
       "  [415.0, 415.0, 425.0, 425.0],\n",
       "  [400.0, 400.0, 420.0, 420.0],\n",
       "  [485.0, 485.0, 495.0, 495.0],\n",
       "  [475.0, 475.0, 490.0, 490.0],\n",
       "  [465.0, 465.0, 482.5, 482.5],\n",
       "  [455.0, 455.0, 473.75, 473.75],\n",
       "  [445.0, 445.0, 464.375, 464.375],\n",
       "  [435.0, 435.0, 454.6875, 454.6875],\n",
       "  [410.0, 410.0, 444.84375, 444.84375],\n",
       "  [385.0, 385.0, 427.421875, 427.421875],\n",
       "  [375.0, 375.0, 406.2109375, 406.2109375],\n",
       "  [317.1875, 317.1875, 390.60546875, 390.60546875],\n",
       "  [265.0, 265.0, 353.896484375, 353.896484375],\n",
       "  [49.85107421875, 49.85107421875, 309.4482421875, 309.4482421875],\n",
       "  [20.0, 20.0, 179.649658203125, 179.649658203125],\n",
       "  [5.0, 5.0, 99.8248291015625, 99.8248291015625]],\n",
       " 'dcoord': [[0.0, 0.2993486720311523, 0.2993486720311523, 0.0],\n",
       "  [0.0, 0.3903330700619855, 0.3903330700619855, 0.0],\n",
       "  [0.0, 0.2728210776078948, 0.2728210776078948, 0.0],\n",
       "  [0.0, 0.4684907592027682, 0.4684907592027682, 0.2728210776078948],\n",
       "  [0.0, 0.2367369243455329, 0.2367369243455329, 0.0],\n",
       "  [0.0, 0.3265678953296343, 0.3265678953296343, 0.2367369243455329],\n",
       "  [0.0, 0.2801818622029037, 0.2801818622029037, 0.0],\n",
       "  [0.0, 0.3901528621019746, 0.3901528621019746, 0.2801818622029037],\n",
       "  [0.0, 0.11861830967981825, 0.11861830967981825, 0.0],\n",
       "  [0.0, 0.15475744065583363, 0.15475744065583363, 0.11861830967981825],\n",
       "  [0.0, 0.2637255766154508, 0.2637255766154508, 0.15475744065583363],\n",
       "  [0.0, 0.39573584754227886, 0.39573584754227886, 0.2637255766154508],\n",
       "  [0.3901528621019746,\n",
       "   0.3977639489018819,\n",
       "   0.3977639489018819,\n",
       "   0.39573584754227886],\n",
       "  [0.3265678953296343,\n",
       "   0.42489404175311984,\n",
       "   0.42489404175311984,\n",
       "   0.3977639489018819],\n",
       "  [0.0, 0.3625075142978227, 0.3625075142978227, 0.0],\n",
       "  [0.0, 0.4995523079325468, 0.4995523079325468, 0.0],\n",
       "  [0.3625075142978227,\n",
       "   0.516774458902904,\n",
       "   0.516774458902904,\n",
       "   0.4995523079325468],\n",
       "  [0.42489404175311984,\n",
       "   0.624887310836581,\n",
       "   0.624887310836581,\n",
       "   0.516774458902904],\n",
       "  [0.4684907592027682,\n",
       "   0.6452311366529515,\n",
       "   0.6452311366529515,\n",
       "   0.624887310836581],\n",
       "  [0.0, 0.8106477943519385, 0.8106477943519385, 0.6452311366529515],\n",
       "  [0.3903330700619855,\n",
       "   0.9583902415521104,\n",
       "   0.9583902415521104,\n",
       "   0.8106477943519385],\n",
       "  [0.0, 0.9794446631761494, 0.9794446631761494, 0.9583902415521104],\n",
       "  [0.0, 1.0650239613709738, 1.0650239613709738, 0.9794446631761494],\n",
       "  [0.0, 0.22259718526857256, 0.22259718526857256, 0.0],\n",
       "  [0.0, 0.28301501676871527, 0.28301501676871527, 0.22259718526857256],\n",
       "  [0.0, 0.45589488265029177, 0.45589488265029177, 0.0],\n",
       "  [0.28301501676871527,\n",
       "   0.558068249582298,\n",
       "   0.558068249582298,\n",
       "   0.45589488265029177],\n",
       "  [0.0, 0.5970511367965029, 0.5970511367965029, 0.558068249582298],\n",
       "  [0.0, 0.0432002226324453, 0.0432002226324453, 0.0],\n",
       "  [0.0, 0.39704109012570676, 0.39704109012570676, 0.0432002226324453],\n",
       "  [0.0, 0.6161825382519568, 0.6161825382519568, 0.39704109012570676],\n",
       "  [0.5970511367965029,\n",
       "   0.6721899210191679,\n",
       "   0.6721899210191679,\n",
       "   0.6161825382519568],\n",
       "  [0.0, 0.06731573796464942, 0.06731573796464942, 0.0],\n",
       "  [0.0, 0.2493196795659443, 0.2493196795659443, 0.0],\n",
       "  [0.06731573796464942,\n",
       "   0.5136595670985337,\n",
       "   0.5136595670985337,\n",
       "   0.2493196795659443],\n",
       "  [0.0, 0.27864107199995364, 0.27864107199995364, 0.0],\n",
       "  [0.0, 0.3643642365733708, 0.3643642365733708, 0.27864107199995364],\n",
       "  [0.0, 0.4072921534705673, 0.4072921534705673, 0.3643642365733708],\n",
       "  [0.0, 0.4334728995057811, 0.4334728995057811, 0.4072921534705673],\n",
       "  [0.0, 0.5260661835218257, 0.5260661835218257, 0.4334728995057811],\n",
       "  [0.0, 0.6163604576890155, 0.6163604576890155, 0.5260661835218257],\n",
       "  [0.5136595670985337,\n",
       "   0.6782495675754797,\n",
       "   0.6782495675754797,\n",
       "   0.6163604576890155],\n",
       "  [0.0, 0.8501314287990749, 0.8501314287990749, 0.6782495675754797],\n",
       "  [0.0, 0.9814425928776791, 0.9814425928776791, 0.8501314287990749],\n",
       "  [0.6721899210191679,\n",
       "   1.0873880576371127,\n",
       "   1.0873880576371127,\n",
       "   0.9814425928776791],\n",
       "  [0.0, 1.1376514374628404, 1.1376514374628404, 1.0873880576371127],\n",
       "  [1.0650239613709738,\n",
       "   1.5099164052868537,\n",
       "   1.5099164052868537,\n",
       "   1.1376514374628404],\n",
       "  [0.2993486720311523,\n",
       "   1.563298488216011,\n",
       "   1.563298488216011,\n",
       "   1.5099164052868537],\n",
       "  [0.0, 1.9627313911476691, 1.9627313911476691, 1.563298488216011]],\n",
       " 'ivl': ['44',\n",
       "  '6',\n",
       "  '15',\n",
       "  '24',\n",
       "  '9',\n",
       "  '5',\n",
       "  '20',\n",
       "  '17',\n",
       "  '1',\n",
       "  '8',\n",
       "  '21',\n",
       "  '18',\n",
       "  '12',\n",
       "  '16',\n",
       "  '10',\n",
       "  '14',\n",
       "  '23',\n",
       "  '22',\n",
       "  '2',\n",
       "  '3',\n",
       "  '4',\n",
       "  '7',\n",
       "  '0',\n",
       "  '11',\n",
       "  '13',\n",
       "  '19',\n",
       "  '29',\n",
       "  '42',\n",
       "  '25',\n",
       "  '26',\n",
       "  '30',\n",
       "  '37',\n",
       "  '38',\n",
       "  '34',\n",
       "  '49',\n",
       "  '31',\n",
       "  '36',\n",
       "  '28',\n",
       "  '27',\n",
       "  '41',\n",
       "  '48',\n",
       "  '33',\n",
       "  '43',\n",
       "  '39',\n",
       "  '35',\n",
       "  '40',\n",
       "  '45',\n",
       "  '46',\n",
       "  '32',\n",
       "  '47'],\n",
       " 'leaves': [44,\n",
       "  6,\n",
       "  15,\n",
       "  24,\n",
       "  9,\n",
       "  5,\n",
       "  20,\n",
       "  17,\n",
       "  1,\n",
       "  8,\n",
       "  21,\n",
       "  18,\n",
       "  12,\n",
       "  16,\n",
       "  10,\n",
       "  14,\n",
       "  23,\n",
       "  22,\n",
       "  2,\n",
       "  3,\n",
       "  4,\n",
       "  7,\n",
       "  0,\n",
       "  11,\n",
       "  13,\n",
       "  19,\n",
       "  29,\n",
       "  42,\n",
       "  25,\n",
       "  26,\n",
       "  30,\n",
       "  37,\n",
       "  38,\n",
       "  34,\n",
       "  49,\n",
       "  31,\n",
       "  36,\n",
       "  28,\n",
       "  27,\n",
       "  41,\n",
       "  48,\n",
       "  33,\n",
       "  43,\n",
       "  39,\n",
       "  35,\n",
       "  40,\n",
       "  45,\n",
       "  46,\n",
       "  32,\n",
       "  47],\n",
       " 'color_list': ['g',\n",
       "  'r',\n",
       "  'r',\n",
       "  'r',\n",
       "  'r',\n",
       "  'r',\n",
       "  'r',\n",
       "  'r',\n",
       "  'r',\n",
       "  'r',\n",
       "  'r',\n",
       "  'r',\n",
       "  'r',\n",
       "  'r',\n",
       "  'r',\n",
       "  'r',\n",
       "  'r',\n",
       "  'r',\n",
       "  'r',\n",
       "  'r',\n",
       "  'r',\n",
       "  'r',\n",
       "  'r',\n",
       "  'c',\n",
       "  'c',\n",
       "  'c',\n",
       "  'c',\n",
       "  'c',\n",
       "  'c',\n",
       "  'c',\n",
       "  'c',\n",
       "  'c',\n",
       "  'c',\n",
       "  'c',\n",
       "  'c',\n",
       "  'c',\n",
       "  'c',\n",
       "  'c',\n",
       "  'c',\n",
       "  'c',\n",
       "  'c',\n",
       "  'c',\n",
       "  'c',\n",
       "  'c',\n",
       "  'c',\n",
       "  'c',\n",
       "  'b',\n",
       "  'b',\n",
       "  'b']}"
      ]
     },
     "execution_count": 33,
     "metadata": {},
     "output_type": "execute_result"
    },
    {
     "data": {
      "image/png": "[encoded data removed]",
      "text/plain": [
       "<Figure size 1800x720 with 1 Axes>"
      ]
     },
     "metadata": {
      "needs_background": "light"
     },
     "output_type": "display_data"
    }
   ],
   "source": [
    "# calculate full dendrogram\n",
    "plt.figure(figsize=(25, 10))\n",
    "plt.title('Hierarchical Clustering Dendrogram')\n",
    "plt.xlabel('sample index')\n",
    "plt.ylabel('distance')\n",
    "dendrogram(\n",
    "    z_single,\n",
    "    leaf_rotation=90.,  # rotates the x axis labels\n",
    "    leaf_font_size=8.,  # font size for the x axis labels\n",
    ")"
   ]
  },
  {
   "cell_type": "code",
   "execution_count": null,
   "metadata": {},
   "outputs": [],
   "source": []
  }
 ],
 "metadata": {
  "kernelspec": {
   "display_name": "Python 3",
   "language": "python",
   "name": "python3"
  },
  "language_info": {
   "codemirror_mode": {
    "name": "ipython",
    "version": 3
   },
   "file_extension": ".py",
   "mimetype": "text/x-python",
   "name": "python",
   "nbconvert_exporter": "python",
   "pygments_lexer": "ipython3",
   "version": "3.7.1"
  }
 },
 "nbformat": 4,
 "nbformat_minor": 2
}
