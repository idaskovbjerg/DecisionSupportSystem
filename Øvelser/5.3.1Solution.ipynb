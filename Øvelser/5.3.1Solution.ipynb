{
 "cells": [
  {
   "cell_type": "code",
   "execution_count": 1,
   "metadata": {},
   "outputs": [],
   "source": [
    "# 5.3.1\n",
    "# The validation set approch\n",
    "import pandas as pd\n",
    "import numpy as np\n",
    "import matplotlib as mpl\n",
    "import matplotlib.pyplot as plt\n",
    "import seaborn as sns\n",
    "\n",
    "import sklearn.linear_model as skl_lm\n",
    "from sklearn.discriminant_analysis import LinearDiscriminantAnalysis\n",
    "from sklearn.discriminant_analysis import QuadraticDiscriminantAnalysis\n",
    "from sklearn.metrics import confusion_matrix, classification_report, precision_score\n",
    "from sklearn import preprocessing\n",
    "from sklearn import neighbors\n",
    "from sklearn.model_selection import train_test_split\n",
    "\n",
    "import statsmodels.api as sm\n",
    "import statsmodels.formula.api as smf\n",
    "\n",
    "from sklearn import datasets \n",
    "# https://realpython.com/python-csv/\n",
    "# Read CSV file python\n",
    "import pandas\n",
    "df = pandas.read_csv('Dataset/Auto.csv', header=0, na_values='?')\n",
    "#print(df)"
   ]
  },
  {
   "cell_type": "code",
   "execution_count": 2,
   "metadata": {},
   "outputs": [
    {
     "data": {
      "text/plain": [
       "(392, 9)"
      ]
     },
     "execution_count": 2,
     "metadata": {},
     "output_type": "execute_result"
    }
   ],
   "source": [
    "df = df.dropna().reset_index(drop=True) # drop the observation with NA values and reindex the obs from 0\n",
    "df.shape"
   ]
  },
  {
   "cell_type": "code",
   "execution_count": 3,
   "metadata": {},
   "outputs": [],
   "source": [
    "np.random.seed(2)\n",
    "train = np.random.choice(df.shape[0], 196, replace=False)\n",
    "select = np.in1d(range(df.shape[0]), train)"
   ]
  },
  {
   "cell_type": "code",
   "execution_count": 8,
   "metadata": {},
   "outputs": [
    {
     "name": "stdout",
     "output_type": "stream",
     "text": [
      "                            OLS Regression Results                            \n",
      "==============================================================================\n",
      "Dep. Variable:                    mpg   R-squared:                       0.599\n",
      "Model:                            OLS   Adj. R-squared:                  0.597\n",
      "Method:                 Least Squares   F-statistic:                     290.3\n",
      "Date:                Fri, 22 Feb 2019   Prob (F-statistic):           2.11e-40\n",
      "Time:                        11:17:56   Log-Likelihood:                -585.40\n",
      "No. Observations:                 196   AIC:                             1175.\n",
      "Df Residuals:                     194   BIC:                             1181.\n",
      "Df Model:                           1                                         \n",
      "Covariance Type:            nonrobust                                         \n",
      "==============================================================================\n",
      "                 coef    std err          t      P>|t|      [0.025      0.975]\n",
      "------------------------------------------------------------------------------\n",
      "Intercept     39.0131      0.994     39.245      0.000      37.053      40.974\n",
      "horsepower    -0.1510      0.009    -17.040      0.000      -0.168      -0.134\n",
      "==============================================================================\n",
      "Omnibus:                        7.645   Durbin-Watson:                   1.070\n",
      "Prob(Omnibus):                  0.022   Jarque-Bera (JB):                7.637\n",
      "Skew:                           0.397   Prob(JB):                       0.0220\n",
      "Kurtosis:                       3.552   Cond. No.                         324.\n",
      "==============================================================================\n",
      "\n",
      "Warnings:\n",
      "[1] Standard Errors assume that the covariance matrix of the errors is correctly specified.\n",
      "--------Test Error for 1st order--------\n",
      "25.108539052889665\n"
     ]
    }
   ],
   "source": [
    "import statsmodels.formula.api as smf\n",
    "lm = smf.ols('mpg~horsepower', data = df[select]).fit()\n",
    "print(lm.summary())\n",
    "preds = lm.predict(df)\n",
    "square_error = (df['mpg'] - preds)**2\n",
    "print('--------Test Error for 1st order--------')\n",
    "print(np.mean(square_error[~select]))"
   ]
  },
  {
   "cell_type": "code",
   "execution_count": 5,
   "metadata": {},
   "outputs": [
    {
     "name": "stdout",
     "output_type": "stream",
     "text": [
      "--------Test Error for 2nd order--------\n",
      "19.72253347048998\n"
     ]
    }
   ],
   "source": [
    "lm2 = smf.ols ('mpg~horsepower + I(horsepower ** 2.0)', data = df[select]).fit()\n",
    "preds = lm2.predict(df)\n",
    "square_error = (df['mpg'] - preds)**2\n",
    "print('--------Test Error for 2nd order--------')\n",
    "print(square_error[~select].mean())"
   ]
  },
  {
   "cell_type": "code",
   "execution_count": 6,
   "metadata": {},
   "outputs": [
    {
     "name": "stdout",
     "output_type": "stream",
     "text": [
      "--------Test Error for 3rd order--------\n",
      "19.921367860132094\n"
     ]
    }
   ],
   "source": [
    "\n",
    "lm3 = smf.ols ('mpg~horsepower + I(horsepower ** 2.0) + I(horsepower ** 3.0)', data = df[select]).fit()\n",
    "preds = lm3.predict(df)\n",
    "square_error = (df['mpg'] - preds)**2\n",
    "print('--------Test Error for 3rd order--------')\n",
    "print(np.mean(square_error[~select]))"
   ]
  },
  {
   "cell_type": "code",
   "execution_count": 7,
   "metadata": {},
   "outputs": [
    {
     "name": "stdout",
     "output_type": "stream",
     "text": [
      "                            OLS Regression Results                            \n",
      "==============================================================================\n",
      "Dep. Variable:                    mpg   R-squared:                       0.684\n",
      "Model:                            OLS   Adj. R-squared:                  0.679\n",
      "Method:                 Least Squares   F-statistic:                     138.3\n",
      "Date:                Fri, 22 Feb 2019   Prob (F-statistic):           9.57e-48\n",
      "Time:                        11:09:19   Log-Likelihood:                -562.28\n",
      "No. Observations:                 196   AIC:                             1133.\n",
      "Df Residuals:                     192   BIC:                             1146.\n",
      "Df Model:                           3                                         \n",
      "Covariance Type:            nonrobust                                         \n",
      "========================================================================================\n",
      "                           coef    std err          t      P>|t|      [0.025      0.975]\n",
      "----------------------------------------------------------------------------------------\n",
      "Intercept               64.6844      6.696      9.660      0.000      51.477      77.891\n",
      "horsepower              -0.6878      0.171     -4.019      0.000      -1.025      -0.350\n",
      "I(horsepower ** 2.0)     0.0031      0.001      2.270      0.024       0.000       0.006\n",
      "I(horsepower ** 3.0) -4.746e-06   3.39e-06     -1.399      0.164   -1.14e-05    1.95e-06\n",
      "==============================================================================\n",
      "Omnibus:                       10.281   Durbin-Watson:                   1.121\n",
      "Prob(Omnibus):                  0.006   Jarque-Bera (JB):               21.070\n",
      "Skew:                           0.135   Prob(JB):                     2.66e-05\n",
      "Kurtosis:                       4.583   Cond. No.                     6.01e+07\n",
      "==============================================================================\n",
      "\n",
      "Warnings:\n",
      "[1] Standard Errors assume that the covariance matrix of the errors is correctly specified.\n",
      "[2] The condition number is large, 6.01e+07. This might indicate that there are\n",
      "strong multicollinearity or other numerical problems.\n"
     ]
    }
   ],
   "source": [
    "print(lm3.summary())"
   ]
  },
  {
   "cell_type": "markdown",
   "metadata": {},
   "source": []
  }
 ],
 "metadata": {
  "kernelspec": {
   "display_name": "Python 3",
   "language": "python",
   "name": "python3"
  },
  "language_info": {
   "codemirror_mode": {
    "name": "ipython",
    "version": 3
   },
   "file_extension": ".py",
   "mimetype": "text/x-python",
   "name": "python",
   "nbconvert_exporter": "python",
   "pygments_lexer": "ipython3",
   "version": "3.7.1"
  }
 },
 "nbformat": 4,
 "nbformat_minor": 2
}
